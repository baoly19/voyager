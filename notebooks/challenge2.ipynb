{
 "cells": [
  {
   "cell_type": "code",
   "execution_count": 2,
   "metadata": {},
   "outputs": [
    {
     "name": "stdout",
     "output_type": "stream",
     "text": [
      "\u001b[33mDEPRECATION: Loading egg at /opt/anaconda3/envs/aeon-tsc/lib/python3.12/site-packages/dtaidistance-2.3.12-py3.8.egg is deprecated. pip 24.3 will enforce this behaviour change. A possible replacement is to use pip for package installation.. Discussion can be found at https://github.com/pypa/pip/issues/12330\u001b[0m\u001b[33m\n",
      "\u001b[0mRequirement already satisfied: cryptography in /opt/anaconda3/envs/aeon-tsc/lib/python3.12/site-packages (43.0.3)\n",
      "Requirement already satisfied: cffi>=1.12 in /opt/anaconda3/envs/aeon-tsc/lib/python3.12/site-packages (from cryptography) (1.16.0)\n",
      "Requirement already satisfied: pycparser in /opt/anaconda3/envs/aeon-tsc/lib/python3.12/site-packages (from cffi>=1.12->cryptography) (2.21)\n"
     ]
    }
   ],
   "source": [
    "!pip install cryptography "
   ]
  },
  {
   "cell_type": "code",
   "execution_count": 73,
   "metadata": {},
   "outputs": [],
   "source": [
    "from cryptography.hazmat.primitives import hashes\n",
    "from cryptography.hazmat.primitives.asymmetric import padding\n",
    "from cryptography.hazmat.primitives import serialization\n",
    "from pathlib import Path\n",
    "import base64"
   ]
  },
  {
   "cell_type": "code",
   "execution_count": 74,
   "metadata": {},
   "outputs": [],
   "source": [
    "def encrypt(message, public_key):\n",
    "    return public_key.encrypt(\n",
    "        message,\n",
    "        padding.OAEP(\n",
    "            mgf=padding.MGF1(algorithm=hashes.SHA256()),\n",
    "            algorithm=hashes.SHA256(),\n",
    "            label=None\n",
    "        )\n",
    "    )\n",
    "\n",
    "\n",
    "def decryptWithKey(message_encrypted, private_key):\n",
    "    # Convert base64 string back to bytes\n",
    "    encrypted_bytes = base64.b64decode(message_encrypted)\n",
    "    try:\n",
    "        message_decrypted = private_key.decrypt(\n",
    "            encrypted_bytes,\n",
    "            padding.OAEP(\n",
    "                mgf=padding.MGF1(algorithm=hashes.SHA256()),\n",
    "                algorithm=hashes.SHA256(),\n",
    "                label=None\n",
    "            )\n",
    "        )\n",
    "        return f\"Decrypted Message: {message_decrypted}\"\n",
    "    except ValueError as e:\n",
    "        print(e)\n",
    "        return \"Failed to Decrypt\""
   ]
  },
  {
   "cell_type": "code",
   "execution_count": 75,
   "metadata": {},
   "outputs": [
    {
     "name": "stdout",
     "output_type": "stream",
     "text": [
      "Decrypted Message: b'voy-d2jcii8j648rcec5bcvie8qfv1hg48im80ca185vdiho'\n"
     ]
    }
   ],
   "source": [
    "private_pem_bytes = Path(\"../keys/private_key.pem\").read_bytes()\n",
    "\n",
    "private_key_from_pem = serialization.load_pem_private_key(\n",
    "    private_pem_bytes,\n",
    "    password=None\n",
    ")\n",
    "\n",
    "message = \"AxAdu+ZHkkM2NlCemJPppHk/IorcHUhXPkuTZRDJQVBlxNeIZFdGaLBuuZpwJs1ddzO10ARG9aRr2qM6koMk3Lqwvknlm0eKooq7S31PN9dxztB4sBA/dMISGwV35ptUlUbiCVBdJrBchjj8S7xHCbdzjPA8mqpWNHrdkJ4R1vXlm54x5TmRiRwaW8OGgCHIp3DL3k5b7wmMDGk3lQjoCtYL4GnJxRgnG/ezoxG1rrHK3a9fpj8QOi1MGslyuXjoWEWbwYtGYK4eBePKIvnu/OEkswSovUcvFHR9h8MrAMsV4+G12EyMd8tXdkpJjyqJZx31vfTmZCv98F3Xa1EccALNZ0Uk75VNLGnbUB0HtlI/nXCz1AXeEgEEwdJzJUYbcUlxt2OrLoY0r5TzzEdRb1hFJ9wihss/nLH6yBaFfCnPEy4s19yoKSwKYhu1Rx+3EkCz7SpLLYjQgUEZb1IBNKlWSe5nqC4Wwuq/b8ze2qUbIpoHhfRh+fU1S+k7aUmYwCghM/FU6DKFy/Zzi0zYmtzEUfclPuEblNd8dS9Lsi209QavfMSrq8waNusABdppTd2pX67AZid/kGNUHedB6dbcgErZVxnR3ti6BY1YWFZpYHqRrXHU/KR6vL7CNTSxAL8dGUEZGInKiwSskndEJr3MlzFOARWkiwaIvCbokYo=\"\n",
    "message_decrypted = decryptWithKey(message, private_key_from_pem)\n",
    "\n",
    "print(message_decrypted)"
   ]
  },
  {
   "cell_type": "code",
   "execution_count": 67,
   "metadata": {},
   "outputs": [
    {
     "name": "stdout",
     "output_type": "stream",
     "text": [
      "<class 'bytes'>\n",
      "dIqpLKBh2XfhBaEss72MGZjader350Ls62mVzjeUA1EPRVITEnB71BFK/6vkzVf1wa5kCoFVMiTc3m2+R2TcuTveegmugUtDryHXZx2cCcIhzENc4IP9NXl0KDgue/X4CaDmohQVvGMk2DbYb+Su1AiuPOJvbZ8xBo9FpcHu73osrnMOTo1+DM5uRAZ+LgzatkywZ9ARi4kljiYDRVV1h/b9V9kvYKhKgIo/sJ/O6/QU/aW2oTJx882xScI8oI5haA0CSNAJkyq3MAhLQYYs/tqaywVWoe4WnITH6nMYw2Y+mjFpuGmMkKFclSlvbwX5pyAT56jSZ8uw6rQWF8aQFeKRySwhxJcDmauK+wPC1P9RELa63N7bn1NrZSTiog7M99Wl6mNm12znKKMlzTa3N0mGd1KPSMx+ZgME0Xx5SX9X/gEHTdWBd8nvvCGr5G9KyMy7TtlbxFIhzTI/M/+3ym5KPXCXLh8+kQIG/NwHcGikomyCrAcWG/IRkrVjpr38ihpJEg0NFkg4p4MwbLN546/sKeHEFzpKJ9LjRLxQzyTekmYM4t1dlbvD93NYaHToXbhKHqVvVH3vL0oF4kYaSySPqNpD9SWc3o6iDoixzEV9e6MPLDPHQDgr/3h7x4MPxrZZq74fr4oh5SGIkHgnsUsLWtv33QjrN3Bbkyg2cpE=\n",
      "Encrypted Text: b\"t\\x8a\\xa9,\\xa0a\\xd9w\\xe1\\x05\\xa1,\\xb3\\xbd\\x8c\\x19\\x98\\xdau\\xea\\xf7\\xe7B\\xec\\xebi\\x95\\xce7\\x94\\x03Q\\x0fER\\x13\\x12p{\\xd4\\x11J\\xff\\xab\\xe4\\xcdW\\xf5\\xc1\\xaed\\n\\x81U2$\\xdc\\xdem\\xbeGd\\xdc\\xb9;\\xdez\\t\\xae\\x81KC\\xaf!\\xd7g\\x1d\\x9c\\t\\xc2!\\xccC\\\\\\xe0\\x83\\xfd5yt(8.{\\xf5\\xf8\\t\\xa0\\xe6\\xa2\\x14\\x15\\xbcc$\\xd86\\xd8o\\xe4\\xae\\xd4\\x08\\xae<\\xe2om\\x9f1\\x06\\x8fE\\xa5\\xc1\\xee\\xefz,\\xaes\\x0eN\\x8d~\\x0c\\xcenD\\x06~.\\x0c\\xda\\xb6L\\xb0g\\xd0\\x11\\x8b\\x89%\\x8e&\\x03EUu\\x87\\xf6\\xfdW\\xd9/`\\xa8J\\x80\\x8a?\\xb0\\x9f\\xce\\xeb\\xf4\\x14\\xfd\\xa5\\xb6\\xa12q\\xf3\\xcd\\xb1I\\xc2<\\xa0\\x8eah\\r\\x02H\\xd0\\t\\x93*\\xb70\\x08KA\\x86,\\xfe\\xda\\x9a\\xcb\\x05V\\xa1\\xee\\x16\\x9c\\x84\\xc7\\xeas\\x18\\xc3f>\\x9a1i\\xb8i\\x8c\\x90\\xa1\\\\\\x95)oo\\x05\\xf9\\xa7 \\x13\\xe7\\xa8\\xd2g\\xcb\\xb0\\xea\\xb4\\x16\\x17\\xc6\\x90\\x15\\xe2\\x91\\xc9,!\\xc4\\x97\\x03\\x99\\xab\\x8a\\xfb\\x03\\xc2\\xd4\\xffQ\\x10\\xb6\\xba\\xdc\\xde\\xdb\\x9fSke$\\xe2\\xa2\\x0e\\xcc\\xf7\\xd5\\xa5\\xeacf\\xd7l\\xe7(\\xa3%\\xcd6\\xb77I\\x86wR\\x8fH\\xcc~f\\x03\\x04\\xd1|yI\\x7fW\\xfe\\x01\\x07M\\xd5\\x81w\\xc9\\xef\\xbc!\\xab\\xe4oJ\\xc8\\xcc\\xbbN\\xd9[\\xc4R!\\xcd2?3\\xff\\xb7\\xcanJ=p\\x97.\\x1f>\\x91\\x02\\x06\\xfc\\xdc\\x07ph\\xa4\\xa2l\\x82\\xac\\x07\\x16\\x1b\\xf2\\x11\\x92\\xb5c\\xa6\\xbd\\xfc\\x8a\\x1aI\\x12\\r\\r\\x16H8\\xa7\\x830l\\xb3y\\xe3\\xaf\\xec)\\xe1\\xc4\\x17:J'\\xd2\\xe3D\\xbcP\\xcf$\\xde\\x92f\\x0c\\xe2\\xdd]\\x95\\xbb\\xc3\\xf7sXht\\xe8]\\xb8J\\x1e\\xa5oT}\\xef/J\\x05\\xe2F\\x1aK$\\x8f\\xa8\\xdaC\\xf5%\\x9c\\xde\\x8e\\xa2\\x0e\\x88\\xb1\\xccE}{\\xa3\\x0f,3\\xc7@8+\\xffx{\\xc7\\x83\\x0f\\xc6\\xb6Y\\xab\\xbe\\x1f\\xaf\\x8a!\\xe5!\\x88\\x90x'\\xb1K\\x0bZ\\xdb\\xf7\\xdd\\x08\\xeb7p[\\x93(6r\\x91\"\n"
     ]
    }
   ],
   "source": [
    "message = b\"Hello World!\"\n",
    "print(type(message))\n",
    "\n",
    "public_pem_bytes = Path(\"../keys/public_key.pem\").read_bytes()\n",
    "public_key_from_pem = serialization.load_pem_public_key(public_pem_bytes)\n",
    "\n",
    "message_encrypted = encrypt(message, public_key_from_pem)\n",
    "\n",
    "base64_bytes = base64.b64encode(message_encrypted)\n",
    "base64_string = base64_bytes.decode(\"ascii\")\n",
    "print(base64_string)\n",
    "print(f\"Encrypted Text: {message_encrypted}\")"
   ]
  }
 ],
 "metadata": {
  "kernelspec": {
   "display_name": "aeon-tsc",
   "language": "python",
   "name": "python3"
  },
  "language_info": {
   "codemirror_mode": {
    "name": "ipython",
    "version": 3
   },
   "file_extension": ".py",
   "mimetype": "text/x-python",
   "name": "python",
   "nbconvert_exporter": "python",
   "pygments_lexer": "ipython3",
   "version": "3.12.3"
  }
 },
 "nbformat": 4,
 "nbformat_minor": 2
}
