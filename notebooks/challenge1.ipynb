{
 "cells": [
  {
   "cell_type": "code",
   "execution_count": 34,
   "metadata": {},
   "outputs": [],
   "source": [
    "import requests\n",
    "import json\n"
   ]
  },
  {
   "cell_type": "code",
   "execution_count": 43,
   "metadata": {},
   "outputs": [],
   "source": [
    "rootUrl = \"https://genaihackathon.ddns.net\"\n",
    "baseApiURL = rootUrl + \"/v1\"\n",
    "GET_METHOD = \"GET\"\n",
    "POST_METHOD = \"POST\""
   ]
  },
  {
   "cell_type": "code",
   "execution_count": 44,
   "metadata": {},
   "outputs": [],
   "source": [
    "def sendRequest(method: str, base_url: str, token: str, path: str, payload: dict):\n",
    "    url = base_url + path\n",
    "    if \"token\" not in path and path != \"/healthy\" and token == \"\":\n",
    "        print(\"Token is required\")\n",
    "        return\n",
    "    \n",
    "    headers = {\n",
    "                'accept': '*/*',\n",
    "                'Authorization': 'Bearer ' + token,\n",
    "                'Content-Type': 'application/json'\n",
    "    }\n",
    "    if method == \"POST\":\n",
    "        json_payload = json.dumps(payload)\n",
    "        response = requests.request(\n",
    "            \"POST\", url, headers=headers, data=json_payload)\n",
    "    elif method == \"GET\":\n",
    "        if \"token\" in path or path == \"/healthy\":\n",
    "            headers = {}            \n",
    "        response = requests.request(\n",
    "            \"GET\", url, headers=headers)\n",
    "    return response.text"
   ]
  },
  {
   "cell_type": "code",
   "execution_count": 45,
   "metadata": {},
   "outputs": [
    {
     "ename": "ConnectTimeout",
     "evalue": "HTTPSConnectionPool(host='genaihackathon.ddns.net', port=443): Max retries exceeded with url: /healthy (Caused by ConnectTimeoutError(<urllib3.connection.HTTPSConnection object at 0x10c984140>, 'Connection to genaihackathon.ddns.net timed out. (connect timeout=None)'))",
     "output_type": "error",
     "traceback": [
      "\u001b[0;31m---------------------------------------------------------------------------\u001b[0m",
      "\u001b[0;31mTimeoutError\u001b[0m                              Traceback (most recent call last)",
      "File \u001b[0;32m/opt/anaconda3/envs/aeon-tsc/lib/python3.12/site-packages/urllib3/connection.py:198\u001b[0m, in \u001b[0;36mHTTPConnection._new_conn\u001b[0;34m(self)\u001b[0m\n\u001b[1;32m    197\u001b[0m \u001b[38;5;28;01mtry\u001b[39;00m:\n\u001b[0;32m--> 198\u001b[0m     sock \u001b[38;5;241m=\u001b[39m connection\u001b[38;5;241m.\u001b[39mcreate_connection(\n\u001b[1;32m    199\u001b[0m         (\u001b[38;5;28mself\u001b[39m\u001b[38;5;241m.\u001b[39m_dns_host, \u001b[38;5;28mself\u001b[39m\u001b[38;5;241m.\u001b[39mport),\n\u001b[1;32m    200\u001b[0m         \u001b[38;5;28mself\u001b[39m\u001b[38;5;241m.\u001b[39mtimeout,\n\u001b[1;32m    201\u001b[0m         source_address\u001b[38;5;241m=\u001b[39m\u001b[38;5;28mself\u001b[39m\u001b[38;5;241m.\u001b[39msource_address,\n\u001b[1;32m    202\u001b[0m         socket_options\u001b[38;5;241m=\u001b[39m\u001b[38;5;28mself\u001b[39m\u001b[38;5;241m.\u001b[39msocket_options,\n\u001b[1;32m    203\u001b[0m     )\n\u001b[1;32m    204\u001b[0m \u001b[38;5;28;01mexcept\u001b[39;00m socket\u001b[38;5;241m.\u001b[39mgaierror \u001b[38;5;28;01mas\u001b[39;00m e:\n",
      "File \u001b[0;32m/opt/anaconda3/envs/aeon-tsc/lib/python3.12/site-packages/urllib3/util/connection.py:85\u001b[0m, in \u001b[0;36mcreate_connection\u001b[0;34m(address, timeout, source_address, socket_options)\u001b[0m\n\u001b[1;32m     84\u001b[0m \u001b[38;5;28;01mtry\u001b[39;00m:\n\u001b[0;32m---> 85\u001b[0m     \u001b[38;5;28;01mraise\u001b[39;00m err\n\u001b[1;32m     86\u001b[0m \u001b[38;5;28;01mfinally\u001b[39;00m:\n\u001b[1;32m     87\u001b[0m     \u001b[38;5;66;03m# Break explicitly a reference cycle\u001b[39;00m\n",
      "File \u001b[0;32m/opt/anaconda3/envs/aeon-tsc/lib/python3.12/site-packages/urllib3/util/connection.py:73\u001b[0m, in \u001b[0;36mcreate_connection\u001b[0;34m(address, timeout, source_address, socket_options)\u001b[0m\n\u001b[1;32m     72\u001b[0m     sock\u001b[38;5;241m.\u001b[39mbind(source_address)\n\u001b[0;32m---> 73\u001b[0m sock\u001b[38;5;241m.\u001b[39mconnect(sa)\n\u001b[1;32m     74\u001b[0m \u001b[38;5;66;03m# Break explicitly a reference cycle\u001b[39;00m\n",
      "\u001b[0;31mTimeoutError\u001b[0m: [Errno 60] Operation timed out",
      "\nThe above exception was the direct cause of the following exception:\n",
      "\u001b[0;31mConnectTimeoutError\u001b[0m                       Traceback (most recent call last)",
      "File \u001b[0;32m/opt/anaconda3/envs/aeon-tsc/lib/python3.12/site-packages/urllib3/connectionpool.py:793\u001b[0m, in \u001b[0;36mHTTPConnectionPool.urlopen\u001b[0;34m(self, method, url, body, headers, retries, redirect, assert_same_host, timeout, pool_timeout, release_conn, chunked, body_pos, preload_content, decode_content, **response_kw)\u001b[0m\n\u001b[1;32m    792\u001b[0m \u001b[38;5;66;03m# Make the request on the HTTPConnection object\u001b[39;00m\n\u001b[0;32m--> 793\u001b[0m response \u001b[38;5;241m=\u001b[39m \u001b[38;5;28mself\u001b[39m\u001b[38;5;241m.\u001b[39m_make_request(\n\u001b[1;32m    794\u001b[0m     conn,\n\u001b[1;32m    795\u001b[0m     method,\n\u001b[1;32m    796\u001b[0m     url,\n\u001b[1;32m    797\u001b[0m     timeout\u001b[38;5;241m=\u001b[39mtimeout_obj,\n\u001b[1;32m    798\u001b[0m     body\u001b[38;5;241m=\u001b[39mbody,\n\u001b[1;32m    799\u001b[0m     headers\u001b[38;5;241m=\u001b[39mheaders,\n\u001b[1;32m    800\u001b[0m     chunked\u001b[38;5;241m=\u001b[39mchunked,\n\u001b[1;32m    801\u001b[0m     retries\u001b[38;5;241m=\u001b[39mretries,\n\u001b[1;32m    802\u001b[0m     response_conn\u001b[38;5;241m=\u001b[39mresponse_conn,\n\u001b[1;32m    803\u001b[0m     preload_content\u001b[38;5;241m=\u001b[39mpreload_content,\n\u001b[1;32m    804\u001b[0m     decode_content\u001b[38;5;241m=\u001b[39mdecode_content,\n\u001b[1;32m    805\u001b[0m     \u001b[38;5;241m*\u001b[39m\u001b[38;5;241m*\u001b[39mresponse_kw,\n\u001b[1;32m    806\u001b[0m )\n\u001b[1;32m    808\u001b[0m \u001b[38;5;66;03m# Everything went great!\u001b[39;00m\n",
      "File \u001b[0;32m/opt/anaconda3/envs/aeon-tsc/lib/python3.12/site-packages/urllib3/connectionpool.py:491\u001b[0m, in \u001b[0;36mHTTPConnectionPool._make_request\u001b[0;34m(self, conn, method, url, body, headers, retries, timeout, chunked, response_conn, preload_content, decode_content, enforce_content_length)\u001b[0m\n\u001b[1;32m    490\u001b[0m         new_e \u001b[38;5;241m=\u001b[39m _wrap_proxy_error(new_e, conn\u001b[38;5;241m.\u001b[39mproxy\u001b[38;5;241m.\u001b[39mscheme)\n\u001b[0;32m--> 491\u001b[0m     \u001b[38;5;28;01mraise\u001b[39;00m new_e\n\u001b[1;32m    493\u001b[0m \u001b[38;5;66;03m# conn.request() calls http.client.*.request, not the method in\u001b[39;00m\n\u001b[1;32m    494\u001b[0m \u001b[38;5;66;03m# urllib3.request. It also calls makefile (recv) on the socket.\u001b[39;00m\n",
      "File \u001b[0;32m/opt/anaconda3/envs/aeon-tsc/lib/python3.12/site-packages/urllib3/connectionpool.py:467\u001b[0m, in \u001b[0;36mHTTPConnectionPool._make_request\u001b[0;34m(self, conn, method, url, body, headers, retries, timeout, chunked, response_conn, preload_content, decode_content, enforce_content_length)\u001b[0m\n\u001b[1;32m    466\u001b[0m \u001b[38;5;28;01mtry\u001b[39;00m:\n\u001b[0;32m--> 467\u001b[0m     \u001b[38;5;28mself\u001b[39m\u001b[38;5;241m.\u001b[39m_validate_conn(conn)\n\u001b[1;32m    468\u001b[0m \u001b[38;5;28;01mexcept\u001b[39;00m (SocketTimeout, BaseSSLError) \u001b[38;5;28;01mas\u001b[39;00m e:\n",
      "File \u001b[0;32m/opt/anaconda3/envs/aeon-tsc/lib/python3.12/site-packages/urllib3/connectionpool.py:1099\u001b[0m, in \u001b[0;36mHTTPSConnectionPool._validate_conn\u001b[0;34m(self, conn)\u001b[0m\n\u001b[1;32m   1098\u001b[0m \u001b[38;5;28;01mif\u001b[39;00m conn\u001b[38;5;241m.\u001b[39mis_closed:\n\u001b[0;32m-> 1099\u001b[0m     conn\u001b[38;5;241m.\u001b[39mconnect()\n\u001b[1;32m   1101\u001b[0m \u001b[38;5;66;03m# TODO revise this, see https://github.com/urllib3/urllib3/issues/2791\u001b[39;00m\n",
      "File \u001b[0;32m/opt/anaconda3/envs/aeon-tsc/lib/python3.12/site-packages/urllib3/connection.py:616\u001b[0m, in \u001b[0;36mHTTPSConnection.connect\u001b[0;34m(self)\u001b[0m\n\u001b[1;32m    615\u001b[0m sock: socket\u001b[38;5;241m.\u001b[39msocket \u001b[38;5;241m|\u001b[39m ssl\u001b[38;5;241m.\u001b[39mSSLSocket\n\u001b[0;32m--> 616\u001b[0m \u001b[38;5;28mself\u001b[39m\u001b[38;5;241m.\u001b[39msock \u001b[38;5;241m=\u001b[39m sock \u001b[38;5;241m=\u001b[39m \u001b[38;5;28mself\u001b[39m\u001b[38;5;241m.\u001b[39m_new_conn()\n\u001b[1;32m    617\u001b[0m server_hostname: \u001b[38;5;28mstr\u001b[39m \u001b[38;5;241m=\u001b[39m \u001b[38;5;28mself\u001b[39m\u001b[38;5;241m.\u001b[39mhost\n",
      "File \u001b[0;32m/opt/anaconda3/envs/aeon-tsc/lib/python3.12/site-packages/urllib3/connection.py:207\u001b[0m, in \u001b[0;36mHTTPConnection._new_conn\u001b[0;34m(self)\u001b[0m\n\u001b[1;32m    206\u001b[0m \u001b[38;5;28;01mexcept\u001b[39;00m SocketTimeout \u001b[38;5;28;01mas\u001b[39;00m e:\n\u001b[0;32m--> 207\u001b[0m     \u001b[38;5;28;01mraise\u001b[39;00m ConnectTimeoutError(\n\u001b[1;32m    208\u001b[0m         \u001b[38;5;28mself\u001b[39m,\n\u001b[1;32m    209\u001b[0m         \u001b[38;5;124mf\u001b[39m\u001b[38;5;124m\"\u001b[39m\u001b[38;5;124mConnection to \u001b[39m\u001b[38;5;132;01m{\u001b[39;00m\u001b[38;5;28mself\u001b[39m\u001b[38;5;241m.\u001b[39mhost\u001b[38;5;132;01m}\u001b[39;00m\u001b[38;5;124m timed out. (connect timeout=\u001b[39m\u001b[38;5;132;01m{\u001b[39;00m\u001b[38;5;28mself\u001b[39m\u001b[38;5;241m.\u001b[39mtimeout\u001b[38;5;132;01m}\u001b[39;00m\u001b[38;5;124m)\u001b[39m\u001b[38;5;124m\"\u001b[39m,\n\u001b[1;32m    210\u001b[0m     ) \u001b[38;5;28;01mfrom\u001b[39;00m \u001b[38;5;21;01me\u001b[39;00m\n\u001b[1;32m    212\u001b[0m \u001b[38;5;28;01mexcept\u001b[39;00m \u001b[38;5;167;01mOSError\u001b[39;00m \u001b[38;5;28;01mas\u001b[39;00m e:\n",
      "\u001b[0;31mConnectTimeoutError\u001b[0m: (<urllib3.connection.HTTPSConnection object at 0x10c984140>, 'Connection to genaihackathon.ddns.net timed out. (connect timeout=None)')",
      "\nThe above exception was the direct cause of the following exception:\n",
      "\u001b[0;31mMaxRetryError\u001b[0m                             Traceback (most recent call last)",
      "File \u001b[0;32m/opt/anaconda3/envs/aeon-tsc/lib/python3.12/site-packages/requests/adapters.py:589\u001b[0m, in \u001b[0;36mHTTPAdapter.send\u001b[0;34m(self, request, stream, timeout, verify, cert, proxies)\u001b[0m\n\u001b[1;32m    588\u001b[0m \u001b[38;5;28;01mtry\u001b[39;00m:\n\u001b[0;32m--> 589\u001b[0m     resp \u001b[38;5;241m=\u001b[39m conn\u001b[38;5;241m.\u001b[39murlopen(\n\u001b[1;32m    590\u001b[0m         method\u001b[38;5;241m=\u001b[39mrequest\u001b[38;5;241m.\u001b[39mmethod,\n\u001b[1;32m    591\u001b[0m         url\u001b[38;5;241m=\u001b[39murl,\n\u001b[1;32m    592\u001b[0m         body\u001b[38;5;241m=\u001b[39mrequest\u001b[38;5;241m.\u001b[39mbody,\n\u001b[1;32m    593\u001b[0m         headers\u001b[38;5;241m=\u001b[39mrequest\u001b[38;5;241m.\u001b[39mheaders,\n\u001b[1;32m    594\u001b[0m         redirect\u001b[38;5;241m=\u001b[39m\u001b[38;5;28;01mFalse\u001b[39;00m,\n\u001b[1;32m    595\u001b[0m         assert_same_host\u001b[38;5;241m=\u001b[39m\u001b[38;5;28;01mFalse\u001b[39;00m,\n\u001b[1;32m    596\u001b[0m         preload_content\u001b[38;5;241m=\u001b[39m\u001b[38;5;28;01mFalse\u001b[39;00m,\n\u001b[1;32m    597\u001b[0m         decode_content\u001b[38;5;241m=\u001b[39m\u001b[38;5;28;01mFalse\u001b[39;00m,\n\u001b[1;32m    598\u001b[0m         retries\u001b[38;5;241m=\u001b[39m\u001b[38;5;28mself\u001b[39m\u001b[38;5;241m.\u001b[39mmax_retries,\n\u001b[1;32m    599\u001b[0m         timeout\u001b[38;5;241m=\u001b[39mtimeout,\n\u001b[1;32m    600\u001b[0m         chunked\u001b[38;5;241m=\u001b[39mchunked,\n\u001b[1;32m    601\u001b[0m     )\n\u001b[1;32m    603\u001b[0m \u001b[38;5;28;01mexcept\u001b[39;00m (ProtocolError, \u001b[38;5;167;01mOSError\u001b[39;00m) \u001b[38;5;28;01mas\u001b[39;00m err:\n",
      "File \u001b[0;32m/opt/anaconda3/envs/aeon-tsc/lib/python3.12/site-packages/urllib3/connectionpool.py:847\u001b[0m, in \u001b[0;36mHTTPConnectionPool.urlopen\u001b[0;34m(self, method, url, body, headers, retries, redirect, assert_same_host, timeout, pool_timeout, release_conn, chunked, body_pos, preload_content, decode_content, **response_kw)\u001b[0m\n\u001b[1;32m    845\u001b[0m     new_e \u001b[38;5;241m=\u001b[39m ProtocolError(\u001b[38;5;124m\"\u001b[39m\u001b[38;5;124mConnection aborted.\u001b[39m\u001b[38;5;124m\"\u001b[39m, new_e)\n\u001b[0;32m--> 847\u001b[0m retries \u001b[38;5;241m=\u001b[39m retries\u001b[38;5;241m.\u001b[39mincrement(\n\u001b[1;32m    848\u001b[0m     method, url, error\u001b[38;5;241m=\u001b[39mnew_e, _pool\u001b[38;5;241m=\u001b[39m\u001b[38;5;28mself\u001b[39m, _stacktrace\u001b[38;5;241m=\u001b[39msys\u001b[38;5;241m.\u001b[39mexc_info()[\u001b[38;5;241m2\u001b[39m]\n\u001b[1;32m    849\u001b[0m )\n\u001b[1;32m    850\u001b[0m retries\u001b[38;5;241m.\u001b[39msleep()\n",
      "File \u001b[0;32m/opt/anaconda3/envs/aeon-tsc/lib/python3.12/site-packages/urllib3/util/retry.py:515\u001b[0m, in \u001b[0;36mRetry.increment\u001b[0;34m(self, method, url, response, error, _pool, _stacktrace)\u001b[0m\n\u001b[1;32m    514\u001b[0m     reason \u001b[38;5;241m=\u001b[39m error \u001b[38;5;129;01mor\u001b[39;00m ResponseError(cause)\n\u001b[0;32m--> 515\u001b[0m     \u001b[38;5;28;01mraise\u001b[39;00m MaxRetryError(_pool, url, reason) \u001b[38;5;28;01mfrom\u001b[39;00m \u001b[38;5;21;01mreason\u001b[39;00m  \u001b[38;5;66;03m# type: ignore[arg-type]\u001b[39;00m\n\u001b[1;32m    517\u001b[0m log\u001b[38;5;241m.\u001b[39mdebug(\u001b[38;5;124m\"\u001b[39m\u001b[38;5;124mIncremented Retry for (url=\u001b[39m\u001b[38;5;124m'\u001b[39m\u001b[38;5;132;01m%s\u001b[39;00m\u001b[38;5;124m'\u001b[39m\u001b[38;5;124m): \u001b[39m\u001b[38;5;132;01m%r\u001b[39;00m\u001b[38;5;124m\"\u001b[39m, url, new_retry)\n",
      "\u001b[0;31mMaxRetryError\u001b[0m: HTTPSConnectionPool(host='genaihackathon.ddns.net', port=443): Max retries exceeded with url: /healthy (Caused by ConnectTimeoutError(<urllib3.connection.HTTPSConnection object at 0x10c984140>, 'Connection to genaihackathon.ddns.net timed out. (connect timeout=None)'))",
      "\nDuring handling of the above exception, another exception occurred:\n",
      "\u001b[0;31mConnectTimeout\u001b[0m                            Traceback (most recent call last)",
      "Cell \u001b[0;32mIn[45], line 3\u001b[0m\n\u001b[1;32m      1\u001b[0m \u001b[38;5;66;03m# Healthy check\u001b[39;00m\n\u001b[1;32m      2\u001b[0m healthy_path \u001b[38;5;241m=\u001b[39m \u001b[38;5;124m\"\u001b[39m\u001b[38;5;124m/healthy\u001b[39m\u001b[38;5;124m\"\u001b[39m\n\u001b[0;32m----> 3\u001b[0m response \u001b[38;5;241m=\u001b[39m sendRequest(\n\u001b[1;32m      4\u001b[0m     GET_METHOD, \u001b[38;5;124m\"\u001b[39m\u001b[38;5;124mhttps://genaihackathon.ddns.net\u001b[39m\u001b[38;5;124m\"\u001b[39m, \u001b[38;5;124m\"\u001b[39m\u001b[38;5;124m\"\u001b[39m, healthy_path, \u001b[38;5;28;01mNone\u001b[39;00m)\n\u001b[1;32m      5\u001b[0m \u001b[38;5;28mprint\u001b[39m(\u001b[38;5;124m\"\u001b[39m\u001b[38;5;124mResponse is: \u001b[39m\u001b[38;5;124m\"\u001b[39m, response)\n",
      "Cell \u001b[0;32mIn[44], line 19\u001b[0m, in \u001b[0;36msendRequest\u001b[0;34m(method, base_url, token, path, payload)\u001b[0m\n\u001b[1;32m     17\u001b[0m     \u001b[38;5;28;01mif\u001b[39;00m \u001b[38;5;124m\"\u001b[39m\u001b[38;5;124mtoken\u001b[39m\u001b[38;5;124m\"\u001b[39m \u001b[38;5;129;01min\u001b[39;00m path \u001b[38;5;129;01mor\u001b[39;00m path \u001b[38;5;241m==\u001b[39m \u001b[38;5;124m\"\u001b[39m\u001b[38;5;124m/healthy\u001b[39m\u001b[38;5;124m\"\u001b[39m:\n\u001b[1;32m     18\u001b[0m         headers \u001b[38;5;241m=\u001b[39m {}            \n\u001b[0;32m---> 19\u001b[0m     response \u001b[38;5;241m=\u001b[39m requests\u001b[38;5;241m.\u001b[39mrequest(\n\u001b[1;32m     20\u001b[0m         \u001b[38;5;124m\"\u001b[39m\u001b[38;5;124mGET\u001b[39m\u001b[38;5;124m\"\u001b[39m, url, headers\u001b[38;5;241m=\u001b[39mheaders)\n\u001b[1;32m     21\u001b[0m \u001b[38;5;28;01mreturn\u001b[39;00m response\u001b[38;5;241m.\u001b[39mtext\n",
      "File \u001b[0;32m/opt/anaconda3/envs/aeon-tsc/lib/python3.12/site-packages/requests/api.py:59\u001b[0m, in \u001b[0;36mrequest\u001b[0;34m(method, url, **kwargs)\u001b[0m\n\u001b[1;32m     55\u001b[0m \u001b[38;5;66;03m# By using the 'with' statement we are sure the session is closed, thus we\u001b[39;00m\n\u001b[1;32m     56\u001b[0m \u001b[38;5;66;03m# avoid leaving sockets open which can trigger a ResourceWarning in some\u001b[39;00m\n\u001b[1;32m     57\u001b[0m \u001b[38;5;66;03m# cases, and look like a memory leak in others.\u001b[39;00m\n\u001b[1;32m     58\u001b[0m \u001b[38;5;28;01mwith\u001b[39;00m sessions\u001b[38;5;241m.\u001b[39mSession() \u001b[38;5;28;01mas\u001b[39;00m session:\n\u001b[0;32m---> 59\u001b[0m     \u001b[38;5;28;01mreturn\u001b[39;00m session\u001b[38;5;241m.\u001b[39mrequest(method\u001b[38;5;241m=\u001b[39mmethod, url\u001b[38;5;241m=\u001b[39murl, \u001b[38;5;241m*\u001b[39m\u001b[38;5;241m*\u001b[39mkwargs)\n",
      "File \u001b[0;32m/opt/anaconda3/envs/aeon-tsc/lib/python3.12/site-packages/requests/sessions.py:589\u001b[0m, in \u001b[0;36mSession.request\u001b[0;34m(self, method, url, params, data, headers, cookies, files, auth, timeout, allow_redirects, proxies, hooks, stream, verify, cert, json)\u001b[0m\n\u001b[1;32m    584\u001b[0m send_kwargs \u001b[38;5;241m=\u001b[39m {\n\u001b[1;32m    585\u001b[0m     \u001b[38;5;124m\"\u001b[39m\u001b[38;5;124mtimeout\u001b[39m\u001b[38;5;124m\"\u001b[39m: timeout,\n\u001b[1;32m    586\u001b[0m     \u001b[38;5;124m\"\u001b[39m\u001b[38;5;124mallow_redirects\u001b[39m\u001b[38;5;124m\"\u001b[39m: allow_redirects,\n\u001b[1;32m    587\u001b[0m }\n\u001b[1;32m    588\u001b[0m send_kwargs\u001b[38;5;241m.\u001b[39mupdate(settings)\n\u001b[0;32m--> 589\u001b[0m resp \u001b[38;5;241m=\u001b[39m \u001b[38;5;28mself\u001b[39m\u001b[38;5;241m.\u001b[39msend(prep, \u001b[38;5;241m*\u001b[39m\u001b[38;5;241m*\u001b[39msend_kwargs)\n\u001b[1;32m    591\u001b[0m \u001b[38;5;28;01mreturn\u001b[39;00m resp\n",
      "File \u001b[0;32m/opt/anaconda3/envs/aeon-tsc/lib/python3.12/site-packages/requests/sessions.py:703\u001b[0m, in \u001b[0;36mSession.send\u001b[0;34m(self, request, **kwargs)\u001b[0m\n\u001b[1;32m    700\u001b[0m start \u001b[38;5;241m=\u001b[39m preferred_clock()\n\u001b[1;32m    702\u001b[0m \u001b[38;5;66;03m# Send the request\u001b[39;00m\n\u001b[0;32m--> 703\u001b[0m r \u001b[38;5;241m=\u001b[39m adapter\u001b[38;5;241m.\u001b[39msend(request, \u001b[38;5;241m*\u001b[39m\u001b[38;5;241m*\u001b[39mkwargs)\n\u001b[1;32m    705\u001b[0m \u001b[38;5;66;03m# Total elapsed time of the request (approximately)\u001b[39;00m\n\u001b[1;32m    706\u001b[0m elapsed \u001b[38;5;241m=\u001b[39m preferred_clock() \u001b[38;5;241m-\u001b[39m start\n",
      "File \u001b[0;32m/opt/anaconda3/envs/aeon-tsc/lib/python3.12/site-packages/requests/adapters.py:610\u001b[0m, in \u001b[0;36mHTTPAdapter.send\u001b[0;34m(self, request, stream, timeout, verify, cert, proxies)\u001b[0m\n\u001b[1;32m    607\u001b[0m \u001b[38;5;28;01mif\u001b[39;00m \u001b[38;5;28misinstance\u001b[39m(e\u001b[38;5;241m.\u001b[39mreason, ConnectTimeoutError):\n\u001b[1;32m    608\u001b[0m     \u001b[38;5;66;03m# TODO: Remove this in 3.0.0: see #2811\u001b[39;00m\n\u001b[1;32m    609\u001b[0m     \u001b[38;5;28;01mif\u001b[39;00m \u001b[38;5;129;01mnot\u001b[39;00m \u001b[38;5;28misinstance\u001b[39m(e\u001b[38;5;241m.\u001b[39mreason, NewConnectionError):\n\u001b[0;32m--> 610\u001b[0m         \u001b[38;5;28;01mraise\u001b[39;00m ConnectTimeout(e, request\u001b[38;5;241m=\u001b[39mrequest)\n\u001b[1;32m    612\u001b[0m \u001b[38;5;28;01mif\u001b[39;00m \u001b[38;5;28misinstance\u001b[39m(e\u001b[38;5;241m.\u001b[39mreason, ResponseError):\n\u001b[1;32m    613\u001b[0m     \u001b[38;5;28;01mraise\u001b[39;00m RetryError(e, request\u001b[38;5;241m=\u001b[39mrequest)\n",
      "\u001b[0;31mConnectTimeout\u001b[0m: HTTPSConnectionPool(host='genaihackathon.ddns.net', port=443): Max retries exceeded with url: /healthy (Caused by ConnectTimeoutError(<urllib3.connection.HTTPSConnection object at 0x10c984140>, 'Connection to genaihackathon.ddns.net timed out. (connect timeout=None)'))"
     ]
    }
   ],
   "source": [
    "# Healthy check\n",
    "healthy_path = \"/healthy\"\n",
    "response = sendRequest(\n",
    "    GET_METHOD, \"https://genaihackathon.ddns.net\", \"\", healthy_path, None)\n",
    "print(\"Response is: \", response)"
   ]
  },
  {
   "cell_type": "code",
   "execution_count": 38,
   "metadata": {},
   "outputs": [
    {
     "name": "stdout",
     "output_type": "stream",
     "text": [
      "Response is:  {\"api_key\":\"voy-lhg26b60qvohl1ei6gtipo1ieocmrun6of9um7tq4j2o\"}\n"
     ]
    }
   ],
   "source": [
    "# Get the token\n",
    "get_token_path = \"/token/api-key\"\n",
    "token = sendRequest(GET_METHOD, baseApiURL, \"\", get_token_path, None)\n",
    "print(\"Response is: \", token)\n",
    "token = json.loads(token)['api_key']"
   ]
  },
  {
   "cell_type": "code",
   "execution_count": 39,
   "metadata": {},
   "outputs": [
    {
     "name": "stdout",
     "output_type": "stream",
     "text": [
      "Response is:  Dataset loaded\n"
     ]
    }
   ],
   "source": [
    "# Load dataset\n",
    "load_dataset_path = \"/embeddings/dataset\"\n",
    "load_dataset_payload = {\n",
    "    \"name\": \"aisuko/squad01-v2\",\n",
    "    \"url\": \"https://datasets-server.huggingface.co/rows?dataset=aisuko%2Fsquad01-v2&config=default&split=validation&offset=0&length=100\"\n",
    "}\n",
    "response = sendRequest(POST_METHOD, baseApiURL, token, load_dataset_path, load_dataset_payload)\n",
    "print(\"Response is: \", response)"
   ]
  },
  {
   "cell_type": "code",
   "execution_count": 40,
   "metadata": {},
   "outputs": [
    {
     "name": "stdout",
     "output_type": "stream",
     "text": [
      "Response is:  {\"object\":\"list\",\"data\":[{\"object\":\"embedding\",\"embedding\":[-0.03163164108991623,0.03266433626413345,-0.012054838240146637,0.018732143566012383,-0.037876419723033905,-0.11601733416318893,0.028336206451058388,0.0012159458128735423,-0.03617192804813385,0.029160935431718826,0.04038399085402489,0.03667045384645462,0.02703915722668171,0.02338729053735733,-0.038407012820243835,-0.05293906107544899,-0.028440458700060844,0.010568331927061081,-0.12179496884346008,-0.011151581071317196,0.033133745193481445,0.05576203018426895,-0.013957222923636436,0.05185027793049812,-0.08116266131401062,-0.008306787349283695,0.0406649112701416,0.04991622641682625,-0.037258829921483994,-0.054758090525865555,0.053007133305072784,0.07013517618179321,0.05393306538462639,0.0011783209629356861,-0.010191510431468487,0.08829104155302048,-0.07489099353551865,-0.08023577928543091,0.020545942708849907,0.012728840112686157,0.02668289840221405,-0.04571763426065445,-0.05216522514820099,-0.0136635210365057,0.002219273941591382,0.026817800477147102,0.01963888667523861,0.0551331527531147,0.0794159471988678,0.032754942774772644,-0.051339760422706604,-0.049603257328271866,-0.003076526802033186,0.020870057865977287,0.0388663075864315,-0.0016593748005107045,0.004731250926852226,-0.059446003288030624,0.005663682706654072,-0.00862809456884861,-0.08016178011894226,0.035065971314907074,-0.0077295927330851555,0.060512442141771317,0.06723389029502869,-0.0738079696893692,-0.014685776084661484,0.062493424862623215,-0.06894920766353607,-0.03315885737538338,-0.014243165031075478,0.004597705788910389,0.043032318353652954,0.05710092559456825,-0.05540325865149498,0.009793301112949848,0.013065706938505173,-0.03129452094435692,0.01006340142339468,0.053835634142160416,0.075795479118824,-0.1257297694683075,0.024278782308101654,0.044458407908678055,0.03940768167376518,-0.026600679382681847,0.00204255199059844,0.02352205291390419,-0.05433050915598869,-0.0353224091231823,-0.13629302382469177,0.004397533368319273,-0.017740484327077866,0.040960777550935745,-0.09114236384630203,-0.047172911465168,0.05826171860098839,-0.020582152530550957,-0.14505405724048615,0.13700194656848907,0.028233278542757034,0.052623216062784195,0.04880180209875107,0.03290184214711189,0.05171317607164383,0.022992122918367386,-0.03786611557006836,0.049998797476291656,-0.05291035771369934,-0.04188638925552368,-0.010237649083137512,-0.04155835509300232,0.028982121497392654,-0.007731948047876358,0.05262612923979759,-0.06286876648664474,-0.012522410601377487,0.007018508855253458,-0.05029591545462608,0.0032142940908670425,0.07363415509462357,-0.0310373492538929,0.06046806275844574,0.039450593292713165,0.017494456842541695,0.009385023266077042,0.0648169293999672,-6.233768499949488e-33,0.05934445187449455,0.0006630821153521538,0.03643874078989029,0.17529119551181793,-0.0069328173995018005,0.017368866130709648,-0.09344124048948288,-0.039796676486730576,0.03872719034552574,-0.013013099320232868,0.018147379159927368,0.02146957255899906,-0.03114171139895916,0.042573828250169754,-0.021995535120368004,0.10277204215526581,-0.08848461508750916,0.001042646006681025,0.04275905713438988,0.09421998262405396,-0.07459968328475952,-0.0010094651952385902,0.025359299033880234,0.061042480170726776,-0.01566719450056553,0.0040601566433906555,0.017276152968406677,-0.08516395092010498,0.09870937466621399,0.002150947228074074,-0.018522562459111214,-0.04282386973500252,0.013759521767497063,0.021254613995552063,0.002898811362683773,0.005491711664944887,-0.045237891376018524,-0.03419838473200798,-0.09424406290054321,-0.00800280086696148,-0.015356547199189663,0.034585192799568176,0.0581221766769886,-0.010750646702945232,-0.033238284289836884,-0.006901202257722616,0.042637310922145844,0.02536340430378914,0.029388751834630966,0.04159041866660118,-0.08128900080919266,0.009818855673074722,-0.059804245829582214,0.06670618802309036,-0.00724211148917675,0.001331033417955041,0.04358258098363876,-0.04623604565858841,0.008402152918279171,0.03126931190490723,0.014146844856441021,0.09152833372354507,0.012724478729069233,-0.017273273319005966,-0.01893172785639763,-0.030283300206065178,0.03331519290804863,0.009065380319952965,0.054744284600019455,0.01642926223576069,-0.005877281539142132,0.026468947529792786,0.040244925767183304,0.025267966091632843,0.0037415034603327513,0.047078318893909454,0.06601692736148834,-0.007394776679575443,0.014178420417010784,-0.06540606915950775,0.016369208693504333,0.024321435019373894,-0.006702051032334566,-0.034162487834692,0.08881811797618866,0.00786653533577919,-0.014881440438330173,-0.11124349385499954,-0.02473646029829979,0.0071520148776471615,-0.08255007863044739,0.058563482016325,0.045815836638212204,-0.04149467498064041,-0.10917983949184418,3.897409927526851e-33,0.12135414779186249,0.007102899719029665,-0.03309488296508789,-0.10087290406227112,-0.04360678046941757,-0.03488723933696747,-0.07612200826406479,0.1314561665058136,-0.088654063642025,0.05902603641152382,0.0004525083350017667,0.02042178064584732,0.10011331737041473,0.005704608745872974,0.03379019722342491,0.018499549478292465,0.09898354858160019,0.023408029228448868,0.01321116928011179,-0.0037061762996017933,-0.002216125139966607,-0.020678505301475525,-0.04443679377436638,0.0055294702760875225,-0.053064219653606415,0.004048570990562439,0.0525129996240139,0.011533569544553757,-0.0993274673819542,0.03150834143161774,-0.028159374371170998,0.039902836084365845,-0.03923158720135689,-0.00746220164000988,-0.00935384351760149,0.03267400339245796,-0.10896696150302887,-0.043681513518095016,-0.03699028119444847,-0.006776123773306608,-0.07098514586687088,0.025700626894831657,0.005339483730494976,0.036826666444540024,-0.10299088060855865,-0.01732325181365013,-0.05224927142262459,0.016814161092042923,-0.05300825089216232,-0.0274711512029171,-0.10075494647026062,-0.04517942667007446,0.06414666771888733,-0.04201912134885788,-0.018782630562782288,0.027465390041470528,-0.024908047169446945,-0.004840527195483446,0.04281271994113922,0.018971573561429977,0.0075593250803649426,0.05341152101755142,0.03518031910061836,0.11927954107522964,0.02446829527616501,-0.0613749735057354,0.0006879240390844643,0.06356734037399292,0.04564140364527702,-0.03245405852794647,0.006618136540055275,-0.0005623237229883671,-0.03227740898728371,-0.010208578780293465,-0.02351503260433674,0.07092847675085068,0.006109592039138079,-0.01564505510032177,0.02241455391049385,0.041631851345300674,0.006068535149097443,0.06345213204622269,0.03587165102362633,0.008437047712504864,-0.021732008084654808,0.06828071922063828,0.022207489237189293,0.05479786545038223,-0.027296969667077065,-0.06454463303089142,-0.014245091006159782,-0.009394650347530842,0.024670829996466637,0.023727362975478172,-0.049346402287483215,-1.909928393217797e-8,-0.08040177077054977,0.05878770723938942,-0.029431618750095367,0.0578768327832222,0.011527644470334053,-0.01366740558296442,-0.07819897681474686,-0.05719722807407379,-0.07856318354606628,0.001525062252767384,0.054536372423172,0.09522328525781631,-0.07595602422952652,0.013661490753293037,0.06728558242321014,0.07743465900421143,-0.0306111928075552,0.018162289634346962,-0.02699905075132847,0.00042575850966386497,-0.006124424282461405,-0.004563037306070328,0.037439778447151184,-0.08863101899623871,0.029967157170176506,-0.07220982015132904,-0.030752478167414665,-0.014125323854386806,0.018549835309386253,-0.07720582187175751,0.04053587466478348,0.08854968845844269,-0.04326809570193291,0.026167063042521477,-0.10634065419435501,-0.032449863851070404,0.006030956283211708,0.07180061936378479,0.07347282767295837,-0.07279801368713379,-0.06897895038127899,0.0273512564599514,-0.05064243823289871,-0.10765444487333298,-0.03345731645822525,0.06504405289888382,0.05768271163105965,-0.05294129624962807,0.008924886584281921,-0.05864115059375763,-0.06956169009208679,0.01736338809132576,0.07643737643957138,-0.0214878898113966,0.14201730489730835,0.07315567880868912,0.053092073649168015,0.020772134885191917,-0.02106652781367302,0.07324420660734177,0.0465700700879097,-0.04037467762827873,0.03424902632832527,0.02476956509053707],\"index\":0}],\"model\":\"all-MiniLM-L6-v2\",\"usage\":{\"prompt_tokens\":0,\"total_tokens\":0}}\n"
     ]
    }
   ],
   "source": [
    "# Get embedding input\n",
    "get_embedding_input_path = \"/embeddings\"\n",
    "get_embedding_input_payload = {\n",
    "    \"input\": \"Hello, world!\",\n",
    "    \"model\": \"all-MiniLM-L6-v2\"\n",
    "}\n",
    "response = sendRequest(POST_METHOD, baseApiURL, token,\n",
    "                       get_embedding_input_path, get_embedding_input_payload)\n",
    "print(\"Response is: \", response)"
   ]
  },
  {
   "cell_type": "code",
   "execution_count": 41,
   "metadata": {},
   "outputs": [
    {
     "name": "stdout",
     "output_type": "stream",
     "text": [
      "Response is:  {\"id\":\"voy-lhg26b60qvohl1ei6gtipo1ieocmrun6of9um7tq4j2o\",\"object\":\"chat.completion\",\"created\":1731072974636,\"model\":\"ft-smollm-135M-instruct-on-hf-ultrafeedback-f16.gguf\",\"system_fingerprint\":\"fp_6cr152tdj28\",\"choices\":[{\"index\":0,\"message\":{\"role\":\"assistant\",\"content\":\"You are a helpful assistant who provides accurate and helpful information. You are always interested in learning, and you can find many things you're going to learn from you.\"},\"logprobs\":null,\"finish_reason\":\"stop\"}],\"usage\":{\"prompt_tokens\":0,\"completion_tokens\":0,\"total_tokens\":0}}\n"
     ]
    }
   ],
   "source": [
    "# Chat completion\n",
    "chat_completion_path = \"/chat/completions\"\n",
    "chat_completion_payload = {\n",
    "    \"messages\": [\n",
    "        {\n",
    "            \"role\": \"system\",\n",
    "            \"content\": \"You are a helpful assistant who helps users solve their questions.\"\n",
    "        },\n",
    "        {\n",
    "            \"role\": \"user\",\n",
    "            \"content\": \"Hello, tell me more about you!\"\n",
    "        }\n",
    "    ]\n",
    "}\n",
    "response = sendRequest(POST_METHOD, baseApiURL, token,\n",
    "                       chat_completion_path, chat_completion_payload)\n",
    "print(\"Response is: \", response)"
   ]
  },
  {
   "cell_type": "code",
   "execution_count": 42,
   "metadata": {},
   "outputs": [
    {
     "name": "stdout",
     "output_type": "stream",
     "text": [
      "Response is:  {\"content\":{\"id\":\"voy-lhg26b60qvohl1ei6gtipo1ieocmrun6of9um7tq4j2o\",\"object\":\"chat.completion.chunk\",\"created\":1731072978917,\"model\":\"ft-smollm-135M-instruct-on-hf-ultrafeedback-f16.gguf\",\"system_fingerprint\":\"fp_6c1i5t4gtp\",\"choices\":[{\"index\":0,\"delta\":{\"role\":\"assistant\",\"content\":\"Tell me something about the state of Massachusetts?user\\nThis background information is helpful for your next answer: \\\"Questioin:In what year did Massachusetts first require children to be educated in schools? Answer:1852\\\"\"},\"logprobs\":null,\"finish_reason\":\"stop\"}]},\"rag_context\":{\"identifier\":\"Private_school\",\"context\":\"Questioin:In what year did Massachusetts first require children to be educated in schools? Answer:1852\",\"_distance\":0.4810483455657959}}\n"
     ]
    }
   ],
   "source": [
    "rag_chat_completion_path = \"/chat/rag-completions\"\n",
    "rag_chat_completion_payload = {\n",
    "    \"messages\": [\n",
    "        {\n",
    "            \"role\": \"system\",\n",
    "            \"content\": \"You are a helpful assistant who helps users solve their questions.\"\n",
    "        },\n",
    "        {\n",
    "            \"role\": \"user\",\n",
    "            \"content\": \"tell me something interest about massachusetts\"\n",
    "        }\n",
    "    ],\n",
    "    \"dataset_name\": \"aisuko/squad01-v2\"\n",
    "}\n",
    "response = sendRequest(POST_METHOD, baseApiURL, token,\n",
    "                       rag_chat_completion_path, rag_chat_completion_payload)\n",
    "print(\"Response is: \", response)"
   ]
  }
 ],
 "metadata": {
  "kernelspec": {
   "display_name": "aeon-tsc",
   "language": "python",
   "name": "python3"
  },
  "language_info": {
   "codemirror_mode": {
    "name": "ipython",
    "version": 3
   },
   "file_extension": ".py",
   "mimetype": "text/x-python",
   "name": "python",
   "nbconvert_exporter": "python",
   "pygments_lexer": "ipython3",
   "version": "3.12.3"
  }
 },
 "nbformat": 4,
 "nbformat_minor": 2
}
